{
 "cells": [
  {
   "cell_type": "code",
   "execution_count": 1,
   "metadata": {},
   "outputs": [],
   "source": [
    "import numpy as np, os\n",
    "import pandas as pd\n",
    "import matplotlib.pyplot as plt\n",
    "from sklearn import svm\n",
    "import seaborn as sn"
   ]
  },
  {
   "cell_type": "code",
   "execution_count": 2,
   "metadata": {},
   "outputs": [],
   "source": [
    "dataset_path = '/home/ikansizo/Core/Vision_Fall_Detection/core/dataset/'\n",
    "train_path = dataset_path + 'train/'\n",
    "test_path = dataset_path + 'test/'\n",
    "num_classes = 5"
   ]
  },
  {
   "cell_type": "code",
   "execution_count": 3,
   "metadata": {},
   "outputs": [],
   "source": [
    "def dataloader(path):\n",
    "    \n",
    "    actions = os.listdir(path)\n",
    "    data = []\n",
    "    labels = []\n",
    "    for i, act in enumerate(actions):\n",
    "        data.extend([np.load(path +act+ '/'+f).reshape((-1)) for f in os.listdir(path+act)])\n",
    "        labels.extend(i*np.ones(len(os.listdir(path+act))))\n",
    "\n",
    "    return np.array(data), np.array(labels)\n",
    "\n",
    "def pipeline(train_path, test_path):\n",
    "    \n",
    "    # Load data\n",
    "    train_data, train_labels = dataloader(train_path)\n",
    "    test_data, test_labels = dataloader(test_path)\n",
    "    # Fit data\n",
    "    clf = svm.SVC()\n",
    "    clf.fit(train_data, train_labels)\n",
    "    # Predict\n",
    "    predictions = clf.predict(test_data)\n",
    "    print(100*np.sum(np.equal(test_labels,predictions).astype(int))/len(test_labels))\n",
    "    print()\n",
    "    return predictions, test_labels"
   ]
  },
  {
   "cell_type": "code",
   "execution_count": 4,
   "metadata": {},
   "outputs": [
    {
     "name": "stdout",
     "output_type": "stream",
     "text": [
      "96.22641509433963\n",
      "\n"
     ]
    }
   ],
   "source": [
    "predictions, labels = pipeline(train_path, test_path)"
   ]
  },
  {
   "cell_type": "code",
   "execution_count": 5,
   "metadata": {},
   "outputs": [],
   "source": [
    "### Confusion Matrix ###\n",
    "conf_matrix = np.zeros((num_classes,num_classes))\n",
    "for i in range(len(predictions)):\n",
    "    conf_matrix[int(labels[i]),int(predictions[i])] += 1\n",
    "\n",
    "for i in range(len(conf_matrix)):\n",
    "    conf_matrix[i] = conf_matrix[i]/sum(conf_matrix[i])"
   ]
  },
  {
   "cell_type": "code",
   "execution_count": 6,
   "metadata": {},
   "outputs": [
    {
     "data": {
      "image/png": "[encoded data removed]",
      "text/plain": [
       "<Figure size 720x504 with 2 Axes>"
      ]
     },
     "metadata": {
      "needs_background": "light"
     },
     "output_type": "display_data"
    }
   ],
   "source": [
    "### Some plotting\n",
    "df_cm = pd.DataFrame(conf_matrix, index = [i for i in ['cutting','gait','std2sit','sit2std','turn']],\n",
    "                  columns = [i for i in ['cutting','gait','std2sit','sit2std','turn']])\n",
    "fig = plt.figure(figsize = (10,7))\n",
    "sn.heatmap(df_cm, annot=True, cmap=sn.cm.rocket_r)\n",
    "plt.show()"
   ]
  },
  {
   "cell_type": "code",
   "execution_count": 7,
   "metadata": {},
   "outputs": [],
   "source": [
    "# Save figure\n",
    "# fig.savefig('/home/ikansizo/Core/Vision_Fall_Detection/core/svm/gr1.pdf')"
   ]
  },
  {
   "cell_type": "code",
   "execution_count": null,
   "metadata": {},
   "outputs": [],
   "source": []
  }
 ],
 "metadata": {
  "kernelspec": {
   "display_name": "Python 3 (ipykernel)",
   "language": "python",
   "name": "python3"
  },
  "language_info": {
   "codemirror_mode": {
    "name": "ipython",
    "version": 3
   },
   "file_extension": ".py",
   "mimetype": "text/x-python",
   "name": "python",
   "nbconvert_exporter": "python",
   "pygments_lexer": "ipython3",
   "version": "3.9.7"
  }
 },
 "nbformat": 4,
 "nbformat_minor": 4
}
