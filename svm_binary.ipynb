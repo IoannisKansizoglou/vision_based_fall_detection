{
 "cells": [
  {
   "cell_type": "code",
   "execution_count": 3,
   "metadata": {},
   "outputs": [],
   "source": [
    "import numpy as np, os\n",
    "import matplotlib.pyplot as plt\n",
    "from sklearn import svm"
   ]
  },
  {
   "cell_type": "code",
   "execution_count": 4,
   "metadata": {},
   "outputs": [],
   "source": [
    "### Data Paths\n",
    "dataset_path = '/home/ikansizo/Core/Vision_Fall_Detection/core/dataset/'\n",
    "train_path = dataset_path + 'train/'\n",
    "test_path = dataset_path + 'test/'"
   ]
  },
  {
   "cell_type": "code",
   "execution_count": 31,
   "metadata": {},
   "outputs": [],
   "source": [
    "def dataloader(path, one_label):\n",
    "\n",
    "    actions = os.listdir(path)\n",
    "    one = []\n",
    "    vsall = []\n",
    "    for act in actions:\n",
    "        if act != one_label:\n",
    "            vsall.extend([np.load(path +act+ '/'+f).reshape((-1)) for f in os.listdir(path+act)])\n",
    "        else:\n",
    "            one.extend([np.load(path +act+ '/'+f).reshape((-1)) for f in os.listdir(path+act)])\n",
    "\n",
    "    data = np.concatenate((one,vsall))\n",
    "    labels = np.concatenate((np.zeros(len(one)),np.ones(len(vsall))))\n",
    "    return data, labels\n",
    "\n",
    "def pipeline(train_path, test_path, one_label):\n",
    "    \n",
    "    # Load data\n",
    "    train_data, train_labels = dataloader(train_path,one_label)\n",
    "    test_data, test_labels = dataloader(test_path,one_label)\n",
    "    # Fit data\n",
    "    clf = svm.SVC()\n",
    "    clf.fit(train_data, train_labels)\n",
    "    # Predict\n",
    "    predictions = clf.predict(test_data)\n",
    "    print(one_label, 100*np.sum(np.equal(test_labels,predictions).astype(int))/len(test_labels))\n",
    "    print()"
   ]
  },
  {
   "cell_type": "code",
   "execution_count": 311,
   "metadata": {},
   "outputs": [
    {
     "name": "stdout",
     "output_type": "stream",
     "text": [
      "0 90.56603773584905\n",
      "\n",
      "0 93.54838709677419\n",
      "\n",
      "1 92.45283018867924\n",
      "\n",
      "1 75.80645161290323\n",
      "\n",
      "2 100.0\n",
      "\n",
      "2 100.0\n",
      "\n",
      "3 100.0\n",
      "\n",
      "3 95.16129032258064\n",
      "\n",
      "4 100.0\n",
      "\n",
      "4 91.93548387096774\n",
      "\n"
     ]
    }
   ],
   "source": [
    "for one_label in sorted(os.listdir(train_path)):\n",
    "    pipeline(train_path, test_path, one_label)\n",
    "    pipeline(test_path, train_path, one_label)"
   ]
  },
  {
   "cell_type": "code",
   "execution_count": null,
   "metadata": {},
   "outputs": [],
   "source": []
  }
 ],
 "metadata": {
  "kernelspec": {
   "display_name": "Python 3 (ipykernel)",
   "language": "python",
   "name": "python3"
  },
  "language_info": {
   "codemirror_mode": {
    "name": "ipython",
    "version": 3
   },
   "file_extension": ".py",
   "mimetype": "text/x-python",
   "name": "python",
   "nbconvert_exporter": "python",
   "pygments_lexer": "ipython3",
   "version": "3.9.7"
  }
 },
 "nbformat": 4,
 "nbformat_minor": 4
}
