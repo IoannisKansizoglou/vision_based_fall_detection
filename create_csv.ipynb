{
 "cells": [
  {
   "cell_type": "code",
   "execution_count": 1,
   "id": "50835e0a",
   "metadata": {},
   "outputs": [
    {
     "name": "stdout",
     "output_type": "stream",
     "text": [
      "classes 62\n",
      "data 62\n"
     ]
    }
   ],
   "source": [
    "import glob\n",
    "import os\n",
    "import pandas as pd\n",
    "\n",
    "outname = 'train_dataset.csv'\n",
    "directory = './'\n",
    "folder = '/train'\n",
    "if not os.path.exists(directory):\n",
    "    os.mkdir(directory)\n",
    "\n",
    "train_data_path = directory+folder\n",
    "file_path = glob.glob(train_data_path + '/*')\n",
    "# files = glob.glob(os.path.join(file_path))\n",
    "data = []\n",
    "\n",
    "data_list = [] #to store image paths in list\n",
    "label_list = [] #to store class values\n",
    "\n",
    "for data_path in file_path:\n",
    "    label = data_path.split('/')[-1]\n",
    "    files = glob.glob(data_path+\"/*\")\n",
    "    for file in files:\n",
    "        label_list.extend(label)\n",
    "    data_list.extend(files)\n",
    "#     print(files)\n",
    "\n",
    "print(\"classes\",len(label_list))\n",
    "print(\"data\",len(data_list))\n",
    "\n",
    "df1 = pd.DataFrame(data_list,columns=['data'])\n",
    "df2 = pd.DataFrame(label_list,columns=['label'])\n",
    "\n",
    "result = pd.concat([df1, df2], axis=1)\n",
    "result\n",
    "result.to_csv(os.path.join(directory,outname), index = False)"
   ]
  },
  {
   "cell_type": "code",
   "execution_count": null,
   "id": "e276f411",
   "metadata": {},
   "outputs": [],
   "source": []
  }
 ],
 "metadata": {
  "kernelspec": {
   "display_name": "Python 3 (ipykernel)",
   "language": "python",
   "name": "python3"
  },
  "language_info": {
   "codemirror_mode": {
    "name": "ipython",
    "version": 3
   },
   "file_extension": ".py",
   "mimetype": "text/x-python",
   "name": "python",
   "nbconvert_exporter": "python",
   "pygments_lexer": "ipython3",
   "version": "3.7.3"
  }
 },
 "nbformat": 4,
 "nbformat_minor": 5
}
